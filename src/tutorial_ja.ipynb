{
 "cells": [
  {
   "cell_type": "markdown",
   "metadata": {},
   "source": [
    "# チュートリアル\n",
    "これは\"タダノ クレーン旋回操作最適化チャレンジ\"のためのチュートリアルです.   \n",
    "このチュートリアルではシミュレータの動きを確認し, 制御アルゴリズムを実装してその精度を確認するまでの一連の流れを説明します."
   ]
  },
  {
   "cell_type": "markdown",
   "metadata": {},
   "source": [
    "## 目次\n",
    "1. 前分析\n",
    "1. クレーンシミュレータを制御するためのアルゴリズム\n",
    "1. クレーンシミュレータの制御\n",
    "1. 提出用のファイルの作成\n",
    "1. さらなる分析"
   ]
  },
  {
   "cell_type": "markdown",
   "metadata": {},
   "source": [
    "## 1. 前分析\n",
    "連続したレバー値を入力することでクレーンシミュレータがどのように動作するかを確認します."
   ]
  },
  {
   "cell_type": "markdown",
   "metadata": {},
   "source": [
    "### レバー値のシーケンスの作成\n",
    "レバー値は\"float\"で0.0~1.0までの値をとることに注意してください."
   ]
  },
  {
   "cell_type": "code",
   "execution_count": null,
   "metadata": {},
   "outputs": [],
   "source": [
    "sequence_1 = []\n",
    "for i in range(1001):\n",
    "    if i <= 100:\n",
    "        sequence_1.append(0.01*i)\n",
    "    elif i > 100 and i <= 200:\n",
    "        sequence_1.append(2-0.01*i)\n",
    "    else:\n",
    "        sequence_1.append(0.0)"
   ]
  },
  {
   "cell_type": "code",
   "execution_count": null,
   "metadata": {},
   "outputs": [],
   "source": [
    "sequence_2 = []\n",
    "for i in range(1001):\n",
    "    if i <= 500:\n",
    "        sequence_2.append(0.002*i)\n",
    "    elif i > 500 and i <= 1000:\n",
    "        sequence_2.append(2-0.002*i)"
   ]
  },
  {
   "cell_type": "code",
   "execution_count": null,
   "metadata": {},
   "outputs": [],
   "source": [
    "sequence_3 = []\n",
    "for i in range(1001):\n",
    "    if i <= 500:\n",
    "        sequence_3.append(0.5)\n",
    "    else:\n",
    "        sequence_3.append(0.0)"
   ]
  },
  {
   "cell_type": "code",
   "execution_count": null,
   "metadata": {},
   "outputs": [],
   "source": [
    "sequence_4 = []\n",
    "for i in range(1001):\n",
    "    sequence_4.append(0.5)"
   ]
  },
  {
   "cell_type": "markdown",
   "metadata": {},
   "source": [
    "### シーケンスの可視化\n",
    "横軸を時間としてシーケンスを可視化します."
   ]
  },
  {
   "cell_type": "code",
   "execution_count": null,
   "metadata": {},
   "outputs": [],
   "source": [
    "import numpy as np\n",
    "import matplotlib.pyplot as plt\n",
    "%matplotlib inline"
   ]
  },
  {
   "cell_type": "code",
   "execution_count": null,
   "metadata": {},
   "outputs": [],
   "source": [
    "t = np.arange(1001)*0.01"
   ]
  },
  {
   "cell_type": "code",
   "execution_count": null,
   "metadata": {},
   "outputs": [],
   "source": [
    "fig, axes = plt.subplots(2, 2,sharex=True, sharey=True, figsize=(15,10))\n",
    "axes[0,0].plot(t, sequence_1)\n",
    "axes[0,0].set_title('sequence_1', fontsize=20)\n",
    "axes[0,0].set_xlabel('time[s]', fontsize=15)\n",
    "axes[1,0].plot(t, sequence_2)\n",
    "axes[1,0].set_title('sequence_2', fontsize=20)\n",
    "axes[1,0].set_xlabel('time[s]', fontsize=15)\n",
    "axes[0,1].plot(t, sequence_3)\n",
    "axes[0,1].set_title('sequence_3', fontsize=20)\n",
    "axes[0,1].set_xlabel('time[s]', fontsize=15)\n",
    "axes[1,1].plot(t, sequence_4)\n",
    "axes[1,1].set_title('sequence_4', fontsize=20)\n",
    "axes[1,1].set_xlabel('time[s]', fontsize=15)\n",
    "plt.show()"
   ]
  },
  {
   "cell_type": "markdown",
   "metadata": {},
   "source": [
    "### クレーンシミュレータへのシーケンスの入力\n",
    "クレーンシミュレータに作成したシーケンスを入力してその出力を見ます."
   ]
  },
  {
   "cell_type": "markdown",
   "metadata": {},
   "source": [
    "まずはシミュレータのための設定ファイルを読み込みます."
   ]
  },
  {
   "cell_type": "code",
   "execution_count": null,
   "metadata": {},
   "outputs": [],
   "source": [
    "import os\n",
    "import json\n",
    "\n",
    "# read the parameters\n",
    "config_dir = './configs'\n",
    "with open(os.path.join(config_dir, 'env_params.json')) as f:\n",
    "    env_params = json.load(f)\n",
    "with open(os.path.join(config_dir, 'sim_params.json')) as f:\n",
    "    sim_params = json.load(f)"
   ]
  },
  {
   "cell_type": "code",
   "execution_count": null,
   "metadata": {},
   "outputs": [],
   "source": [
    "for k, v in sim_params.items():\n",
    "    print(k)\n",
    "    print(v)"
   ]
  },
  {
   "cell_type": "code",
   "execution_count": null,
   "metadata": {},
   "outputs": [],
   "source": [
    "def play(sequence, crane_env):\n",
    "    # control result\n",
    "    result = {}\n",
    "    result['senkai_radian'] = []\n",
    "    result['circular_displacement'] = []\n",
    "    result['radial_displacement'] = []\n",
    "\n",
    "    # get the initial observation\n",
    "    observation = crane_env.reset()\n",
    "\n",
    "    # start the simulator\n",
    "    crane_env.start()\n",
    "    done = False\n",
    "    t = 0\n",
    "    while not done:\n",
    "        # step foward\n",
    "        observation, reward, done, info = crane_env.step(sequence[t])\n",
    "        result['senkai_radian'].append(np.deg2rad(observation['turning_encoder_angle_deg']))\n",
    "        result['circular_displacement'].append(observation['hook_diff_c_m'])\n",
    "        result['radial_displacement'].append(observation['hook_diff_r_m'])\n",
    "        \n",
    "        t += 1\n",
    "\n",
    "        if t == len(sequence):\n",
    "            done = True\n",
    "\n",
    "    # stop the simulator\n",
    "    crane_env.stop()\n",
    "    \n",
    "    return result"
   ]
  },
  {
   "cell_type": "markdown",
   "metadata": {},
   "source": [
    "次にシミュレータをインスタンス化します."
   ]
  },
  {
   "cell_type": "code",
   "execution_count": null,
   "metadata": {},
   "outputs": [],
   "source": [
    "import env_user\n",
    "\n",
    "crane_env = env_user.CraneEnv(env_params, sim_params)"
   ]
  },
  {
   "cell_type": "markdown",
   "metadata": {},
   "source": [
    "シミュレータを走らせます."
   ]
  },
  {
   "cell_type": "code",
   "execution_count": null,
   "metadata": {},
   "outputs": [],
   "source": [
    "result_1 = play(sequence_1, crane_env)\n",
    "result_2 = play(sequence_2, crane_env)\n",
    "result_3 = play(sequence_3, crane_env)\n",
    "result_4 = play(sequence_4, crane_env)"
   ]
  },
  {
   "cell_type": "markdown",
   "metadata": {},
   "source": [
    "### 出力の可視化\n",
    "得られた出力を可視化します.  \n",
    "角速度が観測不可のため, 'senkai_radian'('turning_encoder_angle_deg')により計算します."
   ]
  },
  {
   "cell_type": "code",
   "execution_count": null,
   "metadata": {},
   "outputs": [],
   "source": [
    "def visualize(result, sequence):\n",
    "    # computing the angular velocity\n",
    "    senkai_velocity = []\n",
    "    for i in range(len(result['senkai_radian'])):\n",
    "        if i == 0:\n",
    "            senkai_velocity.append(0)\n",
    "        else:\n",
    "            senkai_velocity.append((result['senkai_radian'][i]-result['senkai_radian'][i-1])/0.01)\n",
    "    result['senkai_velocity'] = senkai_velocity\n",
    "\n",
    "    # Plotting the result\n",
    "    plt.figure(figsize=(12,6))\n",
    "    plt.plot(np.arange(len(result['circular_displacement']))*0.01, result['circular_displacement'], label='circular displacement [m]')\n",
    "    plt.plot(np.arange(len(result['radial_displacement']))*0.01, result['radial_displacement'], label='radial displacement [m]')\n",
    "    plt.plot(np.arange(len(result['senkai_radian']))*0.01, result['senkai_radian'], label=\"senkai angle [rad]\")\n",
    "    plt.plot(np.arange(len(result['senkai_velocity']))*0.01, result['senkai_velocity'], label=\"senkai velocity [rad/s]\")\n",
    "    plt.plot(np.arange(len(sequence))*0.01, sequence, label=\"lever sequence [-1 ~ 1]\")\n",
    "\n",
    "    plt.xlabel('Time [s]', fontsize=15)\n",
    "    plt.legend()\n",
    "    plt.show()\n",
    "    plt.close()"
   ]
  },
  {
   "cell_type": "code",
   "execution_count": null,
   "metadata": {},
   "outputs": [],
   "source": [
    "visualize(result_1, sequence_1)"
   ]
  },
  {
   "cell_type": "code",
   "execution_count": null,
   "metadata": {},
   "outputs": [],
   "source": [
    "visualize(result_2, sequence_2)"
   ]
  },
  {
   "cell_type": "code",
   "execution_count": null,
   "metadata": {},
   "outputs": [],
   "source": [
    "visualize(result_3, sequence_3)"
   ]
  },
  {
   "cell_type": "code",
   "execution_count": null,
   "metadata": {},
   "outputs": [],
   "source": [
    "visualize(result_4, sequence_4)"
   ]
  },
  {
   "cell_type": "markdown",
   "metadata": {},
   "source": [
    "円周方向の変位(circular displacement)と動径方向の変位(radial displacement)が相対的にレバー値に対して敏感に変化することが分かります. よってレバー値は徐々に増加させていく必要がありそうです."
   ]
  },
  {
   "cell_type": "markdown",
   "metadata": {},
   "source": [
    "## 2. クレーンシミュレータを制御するためのアルゴリズム\n",
    "上記の前分析の結果をもとに, シンプルなルールベースの制御アルゴリズムを考案し, 実装します."
   ]
  },
  {
   "cell_type": "markdown",
   "metadata": {},
   "source": [
    "### Agentの実装\n",
    "クレーンシミュレータを制御するためのagentを実装します.  \n",
    "agentは以下のメソッドを持つ必要があります:  \n",
    "\n",
    "- `get_model`\n",
    "- `set_params`\n",
    "- `policy`\n",
    "\n",
    "`get_model`メソッドはagentをインスタンス化し, もし使われていたならばモデルを読み込みます. `set_params`メソッドは'senkai_target_angle', 'weight_t', 'wire_ratio'等のパラメータを読み込みます. `policy`メソッドは観測値が渡されてから次のレバー値を返します. レバー値は, 0~1を満たしている必要があります.\n",
    "\n",
    "`set_params`メソッドに渡されるパラメータは以下です.\n",
    "\n",
    "|  名前  |  データ型  |  単位  |  範囲  |  デフォルト  |  説明  |\n",
    "| ---- | :----: | :----: | :----: | :----: | ---- |\n",
    "|  senkai_target_angle  |  float  |  deg  |  0 ~ 180  |  -  |  目標とする旋回角度  |\n",
    "|  weight_t  |  float  |  t  |  0 ~ 4  |  1  |  吊り荷重さ(フックは除く)  |\n",
    "|  wire_ratio  |  float  |  -  |  0.1 ~ 0.9  |  0.8  |  ブームトップから地面までの距離の割合  |\n",
    "|  init_kifuku_deg  |  float  |  deg  |  10 ~ 80  |  60  |  起伏角度 初期値  |\n",
    "|  init_yure_senkai_m  |  float  |  m  |  -1 ~ 1  |  0  |  円周方向の荷揺れ 初期値  |\n",
    "|  init_yure_kifuku_m  |  float  |  m  |  -1 ~ 1  |  0  |  半径方向の荷揺れ 初期値  |\n",
    "|  param_randomize_seed  |  uint  |  -  |  -  |  0  |  内部パラメータのランダマイズ設定(== 0 : seed is not fixed)  |\n",
    "\n",
    "`policy`メソッドに渡される観測値は以下です.\n",
    "\n",
    "|  名前  |  データ型  |  単位  |  説明  |\n",
    "| ---- | :----: | :----: | ---- |\n",
    "|  step  |  uint  |  -  |  シミュレーションの実行ステップ数  |\n",
    "|  turning_lever_value  |  float  |  -  |  旋回レバー操作量  |\n",
    "|  turning_encoder_angle_deg  |  float  |  deg  |  旋回エンコーダ角度  |\n",
    "|  turning_encoder_acquisition_time  |  float  |  ms  |  旋回エンコーダ取得時刻  |\n",
    "|  working_radius_m  |  float  |  m  |  作業半径  |\n",
    "|  actual_load_t  |  float  |  t  |  実荷重  |\n",
    "|  main_wire_length_m  |  float  |  m  |  主巻吊荷長さ  |\n",
    "|  boom_top_x_m  |  float  |  m  |  ブームトップのx座標  |\n",
    "|  boom_top_y_m  |  float  |  m  |  ブームトップのy座標  |\n",
    "|  boom_top_z_m  |  float  |  m  |  ブームトップのz座標  |\n",
    "|  boom_top_status  |  uint  |  -  |  座標更新時 = 1, 非更新時 = 0. 値は10Hzごとに更新される.  |\n",
    "|  left_turning_pressure_mpa  |  float  |  MPa  |  左旋回圧力  |\n",
    "|  right_turning_pressure_mpa  |  float  |  MPa  |  右旋回圧力  |\n",
    "|  tawami_diff_deg  |  float  |  deg  |  円周方向のたわみ量  |\n",
    "|  hook_x_m  |  float  |  m  |  フック先端のx座標  |\n",
    "|  hook_y_m  |  float  |  m  |  フック先端のy座標  |\n",
    "|  hook_z_m  |  float  |  m  |  フック先端のz座標  |\n",
    "|  hook_status  |  uint  |  -  |  座標更新時 = 1, 非更新時 = 0. 値は10Hzごとに更新される.  |\n",
    "|  hook_diff_c_m  |  float  |  m  |  円周方向の荷揺れ量  |\n",
    "|  hook_diff_r_m  |  float  |  m  |  半径方向の荷揺れ量  |\n",
    "\n",
    "シミュレーションが走るとまずシミュレータがインスタンス化されます. 続いて`get_model`メソッドが呼ばれてagentがインスタンス化され, `set_params`メソッドによってクレーンのパラメータや外的なパラメータが読み込まれます. 各ステップにおいて, シミュレータから観測値が生成され, `policy`メソッドにそれが渡されて次の入力レバー値が返されます. そのレバー値がシミュレータに渡されてまた新たな観測値が生成されます. この一連のやり取りが`done`フラグが`True`になるまで繰り返し実行されます. エピソードは, 入力レバー値が1000ステップの間0になるか合計ステップ数が100000以上になると終了します(`done`フラグが`True`になる).\n",
    "\n",
    "```\n",
    "# instanciate the simulator\n",
    "crane_env = env_user.CraneEnv(env_params, sim_params)\n",
    "\n",
    "# instanciate the agent\n",
    "crane_agent = agent.Agent.get_model('./model')\n",
    "crane_agent.set_params(external_params)\n",
    "\n",
    "# get the initial observation\n",
    "observation = env.reset()\n",
    "\n",
    "# run the simulation\n",
    "done = False\n",
    "while not done:\n",
    "    # next lever value\n",
    "    action = crane_agent.policy(observation)\n",
    "\n",
    "    # step foward\n",
    "    observation, reward, done, info = crane_env.step(action)\n",
    "```\n",
    "単純なルールベースアルゴリズムを実装するために, いくつかのモデルパラメータを`get_model`メソッド内に定義します.  \n",
    "モデルパラメータは以下です:\n",
    "\n",
    "- max_steps\n",
    "- max_velocity\n",
    "- del_lever\n",
    "- max_angle\n",
    "\n",
    "どのように動作するかに関しては`policy`メソッドを確認してください.    \n",
    "角速度が観測不可のため, 観測可能な'turning_encoder_angle_deg'によって角速度を計算します."
   ]
  },
  {
   "cell_type": "code",
   "execution_count": null,
   "metadata": {},
   "outputs": [],
   "source": [
    "class Agent(object):\n",
    "    def __init__(self, action_range):\n",
    "        self.model = None\n",
    "        self.action_range = action_range\n",
    "        self.step = 0\n",
    "        self.observations = self.init_log()\n",
    "\n",
    "    @classmethod\n",
    "    def get_model(cls, model_path):\n",
    "        action_range = (0.0, 1.0)\n",
    "        agent = cls(action_range)\n",
    "\n",
    "        # load some model\n",
    "        if os.path.exists(model_path):\n",
    "            with open(model_path) as f:\n",
    "                agent.model = json.load(f)\n",
    "        else:\n",
    "            agent.model = {'max_steps': 5000,\n",
    "                           'max_velocity': 0.3,\n",
    "                           'del_lever': 0.01,\n",
    "                           'max_angle': 0.8}\n",
    "\n",
    "        return agent\n",
    "\n",
    "    def set_params(self, params):\n",
    "        \"\"\"\n",
    "        args:\n",
    "          params (data type: dict)\n",
    "            - 'senkai_target_angle'\n",
    "            - 'weight_t'\n",
    "            - 'wire_ratio'\n",
    "            - 'init_kifuku_deg'\n",
    "            - 'init_yure_senkai_m'\n",
    "            - 'init_yure_kifuku_m'\n",
    "            - 'param_randomize_seed'\n",
    "        \"\"\"\n",
    "        self.params = params\n",
    "\n",
    "    def policy(self, observation):\n",
    "        \"\"\"\n",
    "        args:\n",
    "          observation (data type: dict):\n",
    "            - 'step'\n",
    "            - 'turning_lever_value'\n",
    "            - 'turning_encoder_angle_deg'\n",
    "            - 'turning_encoder_acquisition_time'\n",
    "            - 'working_radius_m'\n",
    "            - 'actual_load_t'\n",
    "            - 'main_wire_length_m'\n",
    "            - 'boom_top_x_m'\n",
    "            - 'boom_top_y_m'\n",
    "            - 'boom_top_z_m'\n",
    "            - 'boom_top_status'\n",
    "            - 'left_turning_pressure_mpa'\n",
    "            - 'right_turning_pressure_mpa'\n",
    "            - 'tawami_diff_deg'\n",
    "            - 'hook_x_m'\n",
    "            - 'hook_y_m'\n",
    "            - 'hook_z_m'\n",
    "            - 'hook_status'\n",
    "            - 'hook_diff_c_m'\n",
    "            - 'hook_diff_r_m'\n",
    "        available observation\n",
    "\n",
    "        returns:\n",
    "          next_lever_value(data type: float, -1 <= and <= 1)\n",
    "        \"\"\"\n",
    "        # save the observations\n",
    "        if self.step > observation['step']:\n",
    "            self.observations = self.init_log()\n",
    "            self.step = 0\n",
    "        self.observations['senkai_radian'].append(np.deg2rad(observation['turning_encoder_angle_deg']))\n",
    "\n",
    "        # computing the angular velocity\n",
    "        velocity = 0.0\n",
    "        if len(self.observations['senkai_radian']) > 1:\n",
    "            velocity = (self.observations['senkai_radian'][-1]-self.observations['senkai_radian'][-2])/0.01\n",
    "        self.observations['senkai_velocity'].append(velocity)\n",
    "\n",
    "        # computing the next lever value\n",
    "        next_lever_value = 0.0\n",
    "        if self.step <= self.model['max_steps']:\n",
    "            if observation['turning_encoder_angle_deg'] < self.params['senkai_target_angle']*self.model['max_angle']:\n",
    "                if self.observations['senkai_velocity'][-1] <= self.model['max_velocity']:\n",
    "                    next_lever_value = observation['turning_lever_value'] + self.model['del_lever']\n",
    "                else:\n",
    "                    next_lever_value = observation['turning_lever_value'] - self.model['del_lever']\n",
    "\n",
    "            else:\n",
    "                if self.observations['senkai_velocity'][-1] <= 0.0:\n",
    "                    next_lever_value = observation['turning_lever_value'] + self.model['del_lever']\n",
    "                else:\n",
    "                    next_lever_value = observation['turning_lever_value'] - self.model['del_lever']\n",
    "\n",
    "        next_lever_value = min(max(next_lever_value, self.action_range[0]), self.action_range[1])\n",
    "\n",
    "        self.step += 1\n",
    "\n",
    "        return next_lever_value\n",
    "\n",
    "    def init_log(self):\n",
    "        observations = {}\n",
    "        observations['senkai_radian'] = []\n",
    "        observations['senkai_velocity'] = []\n",
    "\n",
    "        return observations"
   ]
  },
  {
   "cell_type": "markdown",
   "metadata": {},
   "source": [
    "### モデルパラメータの最適化\n",
    "ベイズ最適化( https://github.com/fmfn/BayesianOptimization )を用いてモデルパラメータを最適化します.  \n",
    "最適化するパラメータは以下です:\n",
    "\n",
    "- max_steps\n",
    "- max_velocity\n",
    "- del_lever\n",
    "- max_angle\n",
    "\n",
    "目的変数はコンペティションで定義されているスコア( https://signate.jp/competitions/428#evaluation )です. これは\"evaluate.py\"で実装されている関数で計算が可能です."
   ]
  },
  {
   "cell_type": "code",
   "execution_count": null,
   "metadata": {},
   "outputs": [],
   "source": [
    "import time\n",
    "from bayes_opt import BayesianOptimization, UtilityFunction\n",
    "from evaluate import evaluation_crane\n",
    "\n",
    "class Optimizer(object):\n",
    "    def __init__(self, env, agent, evaluation_params, external_params):\n",
    "        self.env = env\n",
    "        self.agent = agent\n",
    "        self.evaluation_params = evaluation_params\n",
    "        self.external_params = external_params\n",
    "\n",
    "    def play(self):\n",
    "        # get the initial observation\n",
    "        observation = self.env.reset()\n",
    "\n",
    "        # start the simulator\n",
    "        self.env.start()\n",
    "        done = False\n",
    "        while not done:\n",
    "            # time the control\n",
    "            time_start = time.perf_counter()\n",
    "            action = self.agent.policy(observation)\n",
    "            runtime = time.perf_counter() - time_start\n",
    "            self.env.update_runtime_results(runtime)\n",
    "\n",
    "            # step foward\n",
    "            observation, reward, done, info = self.env.step(action)\n",
    "\n",
    "        # get the control results\n",
    "        result = self.env.get_control_results()\n",
    "\n",
    "        # stop the simulator\n",
    "        self.env.stop()\n",
    "\n",
    "        return result\n",
    "\n",
    "    def compute_target(self, result):\n",
    "        flag, score = evaluation_crane(result, self.evaluation_params, self.external_params)\n",
    "        if flag:\n",
    "            print('Score: {}\\n'.format(score))\n",
    "            return score\n",
    "        else:\n",
    "            print('Score: {}\\n'.format(0.0))\n",
    "            return 0.0\n",
    "\n",
    "    def optimize(self, pbounds, n = 10):\n",
    "        # set the optimizer\n",
    "        opt = BayesianOptimization(f = None,\n",
    "                                   pbounds = pbounds,\n",
    "                                   verbose = 2,\n",
    "                                   random_state = 1)\n",
    "        opt.set_gp_params(normalize_y = False)\n",
    "        utility = UtilityFunction(kind=\"ucb\", kappa=2.5, xi=0.0)\n",
    "\n",
    "        # run the optimization\n",
    "        for i in range(n):\n",
    "            print('Optimization {}:\\n'.format(i+1))\n",
    "            # suggest the next parameters\n",
    "            next_point = opt.suggest(utility)\n",
    "\n",
    "            # set the suggested parameters\n",
    "            self.agent.model = next_point\n",
    "\n",
    "            # get the result\n",
    "            result = self.play()\n",
    "\n",
    "            # compute the score\n",
    "            score = self.compute_target(result)\n",
    "\n",
    "            # register the result for the given parmaeters\n",
    "            opt.register(params = next_point, target = score)\n",
    "\n",
    "        # set the best model parameters\n",
    "        self.agent.model = opt.max['params']"
   ]
  },
  {
   "cell_type": "markdown",
   "metadata": {},
   "source": [
    "agentに渡されるシミュレータの設定や外的パラメータは以下です."
   ]
  },
  {
   "cell_type": "code",
   "execution_count": null,
   "metadata": {},
   "outputs": [],
   "source": [
    "with open(os.path.join(config_dir, 'env_params.json')) as f:\n",
    "    env_params = json.load(f)\n",
    "with open(os.path.join(config_dir, 'sim_params.json')) as f:\n",
    "    sim_params = json.load(f)\n",
    "with open(os.path.join(config_dir, 'external_params.json')) as f:\n",
    "    external_params = json.load(f)\n",
    "external_params.update(sim_params['state_init'])\n",
    "\n",
    "with open(os.path.join(config_dir, 'evaluation_params.json')) as f:\n",
    "    evaluation_params = json.load(f)\n",
    "\n",
    "print('configurations:')\n",
    "for k, v in sim_params.items():\n",
    "    print(' ', k)\n",
    "    print(' ', v)\n",
    "print('\\nexternal parameters:')\n",
    "for k, v in external_params.items():\n",
    "    print(' ', k, v)"
   ]
  },
  {
   "cell_type": "markdown",
   "metadata": {},
   "source": [
    "モデルパラメータの探索範囲は`pbounds`で設定し, 最適化の繰り返し回数は`n`で設定します.  \n",
    "そして`optimize`メソッドによって最適化を実行します."
   ]
  },
  {
   "cell_type": "code",
   "execution_count": null,
   "metadata": {},
   "outputs": [],
   "source": [
    "# instanciate the agent\n",
    "os.makedirs('model', exist_ok=True)\n",
    "model_path = os.path.join('model', 'params.json')\n",
    "action_range = (0.0, 1.0)\n",
    "agent = Agent(action_range)\n",
    "agent.set_params(external_params)\n",
    "\n",
    "# instanciate the optimizer(pass \"crane_env\" instanciated above which were set \"env_params\" and \"sim_params\".)\n",
    "optimizer = Optimizer(crane_env, agent, evaluation_params, external_params)\n",
    "pbounds = {'max_steps': (9000, 12000),\n",
    "           'max_velocity': (0.2, 0.4),\n",
    "           'del_lever': (0.0005, 0.001),\n",
    "           'max_angle': (0.4, 0.9)}\n",
    "\n",
    "# run the optimizer\n",
    "n = 100\n",
    "optimizer.optimize(pbounds, n)\n",
    "\n",
    "# save the best parameters\n",
    "with open(model_path, 'w', encoding='utf-8') as f:\n",
    "    json.dump(agent.model, f)"
   ]
  },
  {
   "cell_type": "markdown",
   "metadata": {},
   "source": [
    "## 3. クレーンシミュレータの制御\n",
    "最適化されたモデルによってクレーンシミュレータを制御し, その精度を評価します."
   ]
  },
  {
   "cell_type": "markdown",
   "metadata": {},
   "source": [
    "### シミュレーションの実行\n",
    "シミュレーションを実行し, 結果を保存します."
   ]
  },
  {
   "cell_type": "code",
   "execution_count": null,
   "metadata": {},
   "outputs": [],
   "source": [
    "def run(crane_env, crane_agent, output_path):\n",
    "    # get the initial observation\n",
    "    observation = crane_env.reset()\n",
    "    \n",
    "    # start the simulator\n",
    "    crane_env.start()\n",
    "    done = False\n",
    "    while not done:\n",
    "        # time the control\n",
    "        time_start = time.perf_counter()\n",
    "        action = crane_agent.policy(observation)\n",
    "        runtime = time.perf_counter() - time_start\n",
    "        crane_env.update_runtime_results(runtime)\n",
    "        \n",
    "        # step foward\n",
    "        observation, reward, done, info = crane_env.step(action)\n",
    "\n",
    "    # save the control results\n",
    "    crane_env.save_control_results(output_path)\n",
    "\n",
    "    # stop the simulator\n",
    "    crane_env.stop()"
   ]
  },
  {
   "cell_type": "markdown",
   "metadata": {},
   "source": [
    "以下の`output_path`に結果が保存されます."
   ]
  },
  {
   "cell_type": "code",
   "execution_count": null,
   "metadata": {},
   "outputs": [],
   "source": [
    "crane_agent = Agent.get_model(model_path)\n",
    "crane_agent.set_params(external_params)\n",
    "output_path = os.path.join('output', 'control_results.json')\n",
    "run(crane_env, crane_agent, output_path)"
   ]
  },
  {
   "cell_type": "markdown",
   "metadata": {},
   "source": [
    "### 結果の評価\n",
    "結果を評価します."
   ]
  },
  {
   "cell_type": "markdown",
   "metadata": {},
   "source": [
    "agentに渡されるシミュレータの設定や外的パラメータは以下です."
   ]
  },
  {
   "cell_type": "code",
   "execution_count": null,
   "metadata": {},
   "outputs": [],
   "source": [
    "with open(os.path.join(config_dir, 'env_params.json')) as f:\n",
    "    env_params = json.load(f)\n",
    "with open(os.path.join(config_dir, 'sim_params.json')) as f:\n",
    "    sim_params = json.load(f)\n",
    "with open(os.path.join(config_dir, 'external_params.json')) as f:\n",
    "    external_params = json.load(f)\n",
    "external_params.update(sim_params['state_init'])\n",
    "print('configurations:')\n",
    "for k, v in sim_params.items():\n",
    "    print(' ', k)\n",
    "    print(' ', v)\n",
    "print('\\nexternal parameters:')\n",
    "for k, v in external_params.items():\n",
    "    print(' ', k, v)"
   ]
  },
  {
   "cell_type": "markdown",
   "metadata": {},
   "source": [
    "上記の条件のもとで評価結果を確認します."
   ]
  },
  {
   "cell_type": "code",
   "execution_count": null,
   "metadata": {},
   "outputs": [],
   "source": [
    "# read parameters\n",
    "with open(os.path.join(config_dir, 'evaluation_params.json')) as f:\n",
    "    params = json.load(f)\n",
    "with open(os.path.join(config_dir, 'external_params.json')) as f:\n",
    "    external_params = json.load(f)\n",
    "print('Parameters for evaluation:')\n",
    "for k, v in params.items():\n",
    "    print(' ', k, v)\n",
    "for k, v in external_params.items():\n",
    "    print(' ', k, v)\n",
    "\n",
    "# read the control result\n",
    "with open('./output/control_results.json') as f:\n",
    "    result = json.load(f)\n",
    "print('\\nCategories for evaluation:')\n",
    "for k in result.keys():\n",
    "    print(' ', k)\n",
    "\n",
    "# evaluate the result\n",
    "print('\\nEvaluation results:')\n",
    "flag, score = evaluation_crane(result, params, external_params)"
   ]
  },
  {
   "cell_type": "markdown",
   "metadata": {},
   "source": [
    "## 4. 提出用のファイルの作成\n",
    "上記のアルゴリズムを実装した応募用ファイルを作成します."
   ]
  },
  {
   "cell_type": "markdown",
   "metadata": {},
   "source": [
    "### \"agent.py\"の編集"
   ]
  },
  {
   "cell_type": "markdown",
   "metadata": {},
   "source": [
    "提出用のファイルを作成するために上記で定義した`Agent`クラスを\"agent.py\"で作成します(\"README\"も参照)."
   ]
  },
  {
   "cell_type": "markdown",
   "metadata": {},
   "source": [
    "### シミュレータに対する制御"
   ]
  },
  {
   "cell_type": "markdown",
   "metadata": {},
   "source": [
    "以下のコマンドを実行して期待通りの制御を行うか確認します(\"README\"も参照)."
   ]
  },
  {
   "cell_type": "code",
   "execution_count": null,
   "metadata": {},
   "outputs": [],
   "source": [
    "!python run.py"
   ]
  },
  {
   "cell_type": "markdown",
   "metadata": {},
   "source": [
    "### 制御アルゴリズムの評価"
   ]
  },
  {
   "cell_type": "markdown",
   "metadata": {},
   "source": [
    "以下のコマンドを実行して期待通りの精度となるか確認します(\"README\"も参照)."
   ]
  },
  {
   "cell_type": "code",
   "execution_count": null,
   "metadata": {},
   "outputs": [],
   "source": [
    "!python evaluate.py"
   ]
  },
  {
   "cell_type": "markdown",
   "metadata": {},
   "source": [
    "### zipファイルの作成"
   ]
  },
  {
   "cell_type": "markdown",
   "metadata": {},
   "source": [
    "そして以下のコマンドを実行すれば提出用のzipファイルが作成されます(\"README\"も参照)."
   ]
  },
  {
   "cell_type": "code",
   "execution_count": null,
   "metadata": {},
   "outputs": [],
   "source": [
    "!bash submit.sh"
   ]
  },
  {
   "cell_type": "markdown",
   "metadata": {},
   "source": [
    "## 5. さらなる分析"
   ]
  },
  {
   "cell_type": "markdown",
   "metadata": {},
   "source": [
    "このチュートリアルでは単純なルールベースのアルゴリズムを実装し, そのパラメータを最適化しました.  \n",
    "限られた条件しか考慮しなかったため, よりアルゴリズムを頑健にするために改良しなければなりません(例えばさらにモデルパラメータを追加するなど).\n",
    "\n",
    "強化学習アルゴリズムがこの問題に対処できる可能性があります(またはルールベースアルゴリズムと組み合わせることでさらに良くすることも考えられます). 強化学習アルゴリズムを利用するためには各ステップにおいて環境から生成される\"報酬\"を定義しなければなりませんが, このコンペティションでは\"報酬\"は定義されていません. 高い精度を達成するように\"報酬\"を適切に考案することが強化学習アルゴリズムを利用する上で重要になりそうです. \"報酬\"は\"env_user.py\"の`step`メソッドで実装できます(デフォルトでは常に0を返します).\n",
    "\n",
    "素晴らしいアイディアを楽しみにしています.  \n",
    "健闘を祈ります!"
   ]
  }
 ],
 "metadata": {
  "interpreter": {
   "hash": "c49f0bd7bba8bb14ce2871a5702e8b7f6af847bc808d73fa8c7d7c5307af8c3a"
  },
  "kernelspec": {
   "display_name": "Python 3",
   "language": "python",
   "name": "python3"
  },
  "language_info": {
   "codemirror_mode": {
    "name": "ipython",
    "version": 3
   },
   "file_extension": ".py",
   "mimetype": "text/x-python",
   "name": "python",
   "nbconvert_exporter": "python",
   "pygments_lexer": "ipython3",
   "version": "3.8.5"
  },
  "toc-autonumbering": false,
  "toc-showcode": false,
  "toc-showmarkdowntxt": false
 },
 "nbformat": 4,
 "nbformat_minor": 5
}
